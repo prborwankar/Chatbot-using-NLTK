{
  "nbformat": 4,
  "nbformat_minor": 0,
  "metadata": {
    "colab": {
      "name": "Chatbot using NLTK.ipynb",
      "version": "0.3.2",
      "provenance": [],
      "collapsed_sections": []
    },
    "kernelspec": {
      "name": "python3",
      "display_name": "Python 3"
    },
    "accelerator": "GPU"
  },
  "cells": [
    {
      "cell_type": "markdown",
      "metadata": {
        "colab_type": "text",
        "id": "0Wm4r7YWbGyu"
      },
      "source": [
        "**A simple chat assistant or chatbot using Python’s NLTK library**  "
      ]
    },
    {
      "cell_type": "code",
      "metadata": {
        "id": "Jl9SjL3WUF-1",
        "colab_type": "code",
        "colab": {}
      },
      "source": [
        "from nltk.chat.util import Chat, reflections"
      ],
      "execution_count": 0,
      "outputs": []
    },
    {
      "cell_type": "code",
      "metadata": {
        "id": "M2qpon38UFzO",
        "colab_type": "code",
        "colab": {}
      },
      "source": [
        "pairs = [\n",
        "    [\n",
        "        r\"my name is (.*)\",\n",
        "        [\"Hello %1, How are you today ?\",]\n",
        "    ],\n",
        "     [\n",
        "        r\"what is your name ?\",\n",
        "        [\"My name is Chatty and I'm a chatbot ?\",]\n",
        "    ],\n",
        "    [\n",
        "        r\"how are you ?\",\n",
        "        [\"I'm doing good\\nHow about You ?\",]\n",
        "    ],\n",
        "    [\n",
        "        r\"sorry (.*)\",\n",
        "        [\"Its alright\",\"Its OK, never mind\",]\n",
        "    ],\n",
        "    [\n",
        "        r\"i'm (.*) doing good\",\n",
        "        [\"Nice to hear that\",\"Alright :)\",]\n",
        "    ],\n",
        "    [\n",
        "        r\"hi|hey|hello\",\n",
        "        [\"Hello\", \"Hey there\",]\n",
        "    ],\n",
        "    [\n",
        "        r\"(.*) age?\",\n",
        "        [\"I'm a computer program dude\\nSeriously you are asking me this?\",]\n",
        "        \n",
        "    ],\n",
        "    [\n",
        "        r\"what (.*) want ?\",\n",
        "        [\"Make me an offer I can't refuse\",]\n",
        "        \n",
        "    ],\n",
        "    [\n",
        "        r\"(.*) created ?\",\n",
        "        [\"Nagesh created me using Python's NLTK library \",\"top secret ;)\",]\n",
        "    ],\n",
        "    [\n",
        "        r\"(.*) (location|city) ?\",\n",
        "        ['Chennai, Tamil Nadu',]\n",
        "    ],\n",
        "    [\n",
        "        r\"how is weather in (.*)?\",\n",
        "        [\"Weather in %1 is awesome like always\",\"Too hot man here in %1\",\"Too cold man here in %1\",\"Never even heard about %1\"]\n",
        "    ],\n",
        "    [\n",
        "        r\"i work in (.*)?\",\n",
        "        [\"%1 is an Amazing company, I have heard about it. But they are in huge loss these days.\",]\n",
        "    ],\n",
        "[\n",
        "        r\"(.*)raining in (.*)\",\n",
        "        [\"No rain since last week here in %2\",\"Damn its raining too much here in %2\"]\n",
        "    ],\n",
        "    [\n",
        "        r\"how (.*) health(.*)\",\n",
        "        [\"I'm a computer program, so I'm always healthy \",]\n",
        "    ],\n",
        "    [\n",
        "        r\"(.*) (sports|game) ?\",\n",
        "        [\"I'm a very big fan of Football\",]\n",
        "    ],\n",
        "    [\n",
        "        r\"who (.*) sportsperson ?\",\n",
        "        [\"Messy\",\"Ronaldo\",\"Roony\"]\n",
        "],\n",
        "    [\n",
        "        r\"who (.*) (moviestar|actor)?\",\n",
        "        [\"Brad Pitt\"]\n",
        "],\n",
        "    [\n",
        "        r\"quit\",\n",
        "        [\"BBye take care. See you soon :) \",\"It was nice talking to you. See you soon :)\"]\n",
        "],\n",
        "]"
      ],
      "execution_count": 0,
      "outputs": []
    },
    {
      "cell_type": "code",
      "metadata": {
        "id": "xtejTozcVi0w",
        "colab_type": "code",
        "colab": {}
      },
      "source": [
        "def chatty():\n",
        "    print(\"Hi, I'm Chatty and I chat alot ;)\\nPlease type lowercase English language to start a conversation. Type quit to leave \") #default message at the start\n",
        "    chat = Chat(pairs, reflections)\n",
        "    chat.converse()\n"
      ],
      "execution_count": 0,
      "outputs": []
    },
    {
      "cell_type": "code",
      "metadata": {
        "id": "SUAjHuGeVjJu",
        "colab_type": "code",
        "colab": {}
      },
      "source": [
        "if __name__ == \"__main__\":\n",
        "    chatty()"
      ],
      "execution_count": 0,
      "outputs": []
    }
  ]
}